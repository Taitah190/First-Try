{
 "cells": [
  {
   "cell_type": "markdown",
   "metadata": {},
   "source": [
    "# **Spring2024_Simple_Data_Migration_from_RethinkDB_to_MariaDB Progress Report 1** \n",
    "April 26th\n",
    "\n",
    "## Description: \n",
    "Migrate data from RethinkDB to MariaDB using Python scripts where data stored in a RethinkDB database is transferred to a MariaDB database. Develop Python scripts to retrieve data from RethinkDB and insert it into MariaDB, ensuring data integrity and consistency. Utilize the rethinkdb and mysql-connector-python libraries for database interaction, showcasing basic data migration techniques between different database systems. Add different functionalities to enhance complexity of project.\n",
    "\n",
    "Link: https://docs.google.com/document/d/1GEOmfpBUXiCua18wR1Hx1OMUVlku-1of/edit#heading=h.4ph7eurcozb1\n",
    "\n",
    "## About This Project:\n",
    "Everything below are my personal understanding, please feel free to correct me if you see any mistakes, any comment is appreciaated, thank you!\n",
    "\n",
    "It is my understanding, this project contains the following step:\n",
    "### 0. Import needed Libraries\n",
    "### 1. Establish connection to the databases\n",
    "### 2. Pick the dataset\n",
    "### 3. Listed Data\n",
    "### 4. Image Data\n",
    "### 5. Audio Data\n",
    "### 6. Video Data"
   ]
  },
  {
   "cell_type": "markdown",
   "metadata": {},
   "source": [
    "## 0. Import needed Libraries\n",
    "In this section, \n",
    "#### VideoFileClip from moviepy.editor\n",
    "#### cv2\n",
    "#### numpy\n",
    "#### savemat from scipy.io\n",
    "#### read and write from scipy.io.wavfile\n",
    "#### rethinkdb\n",
    "#### pandas\n",
    "#### mariadb"
   ]
  },
  {
   "cell_type": "code",
   "execution_count": 5,
   "metadata": {},
   "outputs": [],
   "source": [
    "from moviepy.editor import VideoFileClip\n",
    "import cv2\n",
    "import numpy as np\n",
    "import time\n",
    "from scipy.io import savemat\n",
    "from scipy.io.wavfile import read, write\n",
    "import rethinkdb as r\n",
    "import json\n",
    "import pandas as pd\n",
    "import mariadb\n",
    "import sys\n",
    "from pydub import AudioSegment\n",
    "import soundfile as sf\n",
    "\n",
    "def split(array):\n",
    "    array = np.array(array)\n",
    "    red = array[:, :, 0:1]\n",
    "    green = array[:, :, 1:2]\n",
    "    blue = array[:, :, 2:3]\n",
    "    nb = []\n",
    "    nr = []\n",
    "    ng = []\n",
    "    for i in red:\n",
    "        tp = [item for sublist in i for item in sublist]\n",
    "        tp = [int(x) for x in tp]\n",
    "        nr.append(tp)\n",
    "        i = None\n",
    "    red = None\n",
    "    for j in green:\n",
    "        tp = [item for sublist in j for item in sublist]\n",
    "        tp = [int(x) for x in tp]\n",
    "        ng.append(tp)\n",
    "        j = None\n",
    "    green = None\n",
    "    for k in blue:\n",
    "        tp = [item for sublist in k for item in sublist]\n",
    "        tp = [int(x) for x in tp]\n",
    "        nb.append(tp)\n",
    "        k = None\n",
    "    blue = None\n",
    "    red = None\n",
    "    green = None\n",
    "    return nr, ng, nb\n"
   ]
  },
  {
   "cell_type": "markdown",
   "metadata": {},
   "source": [
    "## 1. Pick the dataset\n",
    "I have decided to choose a rather challenging dataset: An entire video. To be specific, I am trying to migrate \"Never gonna give you up\" from the great Rick Astley. Due to the sheer amount of data a video contains, I decided to go with the 360p version to minimize the amount of data I have to work with. All of my work so far are only limited to the video, I have not had an chance to do anything with the audio part, although it is a part of my plan. With the help of cv2(opencv-python), I was able to split te video into 5301 frames, each containing 230400 pixels. Each pixel is represented as a set of three integers corresponding to the RGP color scale. "
   ]
  },
  {
   "cell_type": "code",
   "execution_count": 6,
   "metadata": {},
   "outputs": [
    {
     "name": "stdout",
     "output_type": "stream",
     "text": [
      "there are 0 frames in the chosen video\n"
     ]
    }
   ],
   "source": [
    "cap = cv2.VideoCapture('./Rickroll.mp4')\n",
    "length = int(cap.get(cv2.CAP_PROP_FRAME_COUNT))\n",
    "print(\"there are\", length, \"frames in the chosen video\")"
   ]
  },
  {
   "cell_type": "markdown",
   "metadata": {},
   "source": [
    "## 1. establish the connections:\n",
    "here I connect this notebook to a rethinkdb database running locally, I think the ultimate goal is to access the data from a remote database, but I am still working out the kinks of that...So for now, I will be working with a locally hosted Rethindb Database. "
   ]
  },
  {
   "cell_type": "code",
   "execution_count": 7,
   "metadata": {},
   "outputs": [
    {
     "data": {
      "text/plain": [
       "<rethinkdb.net.DefaultConnection at 0x7fec801bf520>"
      ]
     },
     "execution_count": 7,
     "metadata": {},
     "output_type": "execute_result"
    }
   ],
   "source": [
    "rethink = r.RethinkDB()\n",
    "rethink.connect('rethinkdb', 28015).repl()"
   ]
  },
  {
   "cell_type": "markdown",
   "metadata": {},
   "source": [
    "As you might have noticed, I have an image of earth named earth.jpg in my code file, that is because at the begining, I wasn't able to store the entire video in the rethinkdb database, so I admitted defeat and was going to migrate a picture instead of an video. But I later (around the first woking in class session) found a way to store the video in a rethinkdb database, so the following code where I stores the picture is no longer needed. "
   ]
  },
  {
   "cell_type": "code",
   "execution_count": 8,
   "metadata": {},
   "outputs": [
    {
     "name": "stdout",
     "output_type": "stream",
     "text": [
      "<mariadb.cursor at 0x7febf2eb4160>\n"
     ]
    }
   ],
   "source": [
    "try:\n",
    "    # connection parameters\n",
    "    conn_params = {\n",
    "        'user' : \"root\",\n",
    "        'password' : \"<196900>\",\n",
    "        'host' : \"172.19.0.1\",\n",
    "        'port' : 3306,\n",
    "        'database' : \"<data>\"\n",
    "    }\n",
    "\n",
    "    # establish a connection\n",
    "    connection = mariadb.connect(**conn_params)\n",
    "    cursor = connection.cursor()\n",
    "    \n",
    "except mariadb.Error as e:\n",
    "    print(f\"Error connecting to MariaDB Platform: {e}\")\n",
    "    sys.exit(1)\n",
    "    \n",
    "print(cursor)"
   ]
  },
  {
   "cell_type": "markdown",
   "metadata": {},
   "source": [
    "## 2. Pick the dataset\n"
   ]
  },
  {
   "cell_type": "markdown",
   "metadata": {},
   "source": [
    "## 3. Listed Data\n"
   ]
  },
  {
   "cell_type": "code",
   "execution_count": 28,
   "metadata": {},
   "outputs": [
    {
     "data": {
      "text/plain": [
       "{'config_changes': [{'new_val': {'db': 'listed',\n",
       "    'durability': 'hard',\n",
       "    'id': '26d09e37-5247-4d97-9b3a-0021ba863845',\n",
       "    'indexes': [],\n",
       "    'name': 'data',\n",
       "    'primary_key': 'id',\n",
       "    'shards': [{'nonvoting_replicas': [],\n",
       "      'primary_replica': 'e6cfd0df01dd_77c',\n",
       "      'replicas': ['e6cfd0df01dd_77c']}],\n",
       "    'write_acks': 'majority',\n",
       "    'write_hook': None},\n",
       "   'old_val': None}],\n",
       " 'tables_created': 1}"
      ]
     },
     "execution_count": 28,
     "metadata": {},
     "output_type": "execute_result"
    }
   ],
   "source": [
    "rethink.db_create(\"listed\").run()\n",
    "rethink.db(\"listed\").table_create(\"data\").run()"
   ]
  },
  {
   "cell_type": "code",
   "execution_count": 29,
   "metadata": {},
   "outputs": [
    {
     "name": "stdout",
     "output_type": "stream",
     "text": [
      "2\n",
      "line 0 inserted successfully!\n",
      "line 1 inserted successfully!\n",
      "line 2 inserted successfully!\n",
      "line 3 inserted successfully!\n",
      "line 4 inserted successfully!\n",
      "line 5 inserted successfully!\n",
      "line 6 inserted successfully!\n",
      "line 7 inserted successfully!\n",
      "line 8 inserted successfully!\n",
      "line 9 inserted successfully!\n",
      "line 10 inserted successfully!\n",
      "line 11 inserted successfully!\n",
      "line 12 inserted successfully!\n",
      "line 13 inserted successfully!\n",
      "line 14 inserted successfully!\n",
      "line 15 inserted successfully!\n",
      "line 16 inserted successfully!\n",
      "line 17 inserted successfully!\n",
      "line 18 inserted successfully!\n",
      "line 19 inserted successfully!\n",
      "line 20 inserted successfully!\n",
      "line 21 inserted successfully!\n",
      "line 22 inserted successfully!\n",
      "line 23 inserted successfully!\n",
      "line 24 inserted successfully!\n",
      "line 25 inserted successfully!\n",
      "line 26 inserted successfully!\n",
      "line 27 inserted successfully!\n",
      "line 28 inserted successfully!\n",
      "line 29 inserted successfully!\n",
      "line 30 inserted successfully!\n",
      "line 31 inserted successfully!\n",
      "line 32 inserted successfully!\n",
      "line 33 inserted successfully!\n",
      "line 34 inserted successfully!\n",
      "line 35 inserted successfully!\n",
      "line 36 inserted successfully!\n",
      "line 37 inserted successfully!\n",
      "line 38 inserted successfully!\n",
      "line 39 inserted successfully!\n",
      "line 40 inserted successfully!\n",
      "line 41 inserted successfully!\n",
      "line 42 inserted successfully!\n",
      "line 43 inserted successfully!\n",
      "line 44 inserted successfully!\n",
      "line 45 inserted successfully!\n",
      "line 46 inserted successfully!\n",
      "line 47 inserted successfully!\n",
      "line 48 inserted successfully!\n",
      "line 49 inserted successfully!\n",
      "line 50 inserted successfully!\n",
      "line 51 inserted successfully!\n",
      "line 52 inserted successfully!\n",
      "line 53 inserted successfully!\n",
      "line 54 inserted successfully!\n",
      "line 55 inserted successfully!\n",
      "line 56 inserted successfully!\n",
      "line 57 inserted successfully!\n",
      "line 58 inserted successfully!\n",
      "line 59 inserted successfully!\n",
      "line 60 inserted successfully!\n",
      "line 61 inserted successfully!\n",
      "line 62 inserted successfully!\n",
      "line 63 inserted successfully!\n",
      "line 64 inserted successfully!\n",
      "line 65 inserted successfully!\n",
      "line 66 inserted successfully!\n",
      "line 67 inserted successfully!\n",
      "line 68 inserted successfully!\n",
      "line 69 inserted successfully!\n",
      "line 70 inserted successfully!\n",
      "line 71 inserted successfully!\n",
      "line 72 inserted successfully!\n",
      "line 73 inserted successfully!\n",
      "line 74 inserted successfully!\n",
      "line 75 inserted successfully!\n",
      "line 76 inserted successfully!\n",
      "line 77 inserted successfully!\n",
      "line 78 inserted successfully!\n",
      "line 79 inserted successfully!\n",
      "line 80 inserted successfully!\n",
      "line 81 inserted successfully!\n",
      "line 82 inserted successfully!\n",
      "line 83 inserted successfully!\n",
      "line 84 inserted successfully!\n",
      "line 85 inserted successfully!\n",
      "line 86 inserted successfully!\n",
      "line 87 inserted successfully!\n",
      "line 88 inserted successfully!\n",
      "line 89 inserted successfully!\n",
      "line 90 inserted successfully!\n",
      "line 91 inserted successfully!\n",
      "line 92 inserted successfully!\n",
      "line 93 inserted successfully!\n",
      "line 94 inserted successfully!\n",
      "line 95 inserted successfully!\n",
      "line 96 inserted successfully!\n",
      "line 97 inserted successfully!\n",
      "line 98 inserted successfully!\n",
      "line 99 inserted successfully!\n",
      "line 100 inserted successfully!\n",
      "line 101 inserted successfully!\n",
      "line 102 inserted successfully!\n",
      "line 103 inserted successfully!\n",
      "line 104 inserted successfully!\n",
      "line 105 inserted successfully!\n",
      "line 106 inserted successfully!\n",
      "line 107 inserted successfully!\n",
      "line 108 inserted successfully!\n",
      "line 109 inserted successfully!\n",
      "line 110 inserted successfully!\n",
      "line 111 inserted successfully!\n",
      "line 112 inserted successfully!\n",
      "line 113 inserted successfully!\n",
      "line 114 inserted successfully!\n",
      "line 115 inserted successfully!\n",
      "line 116 inserted successfully!\n",
      "line 117 inserted successfully!\n",
      "line 118 inserted successfully!\n",
      "line 119 inserted successfully!\n",
      "line 120 inserted successfully!\n",
      "line 121 inserted successfully!\n",
      "line 122 inserted successfully!\n",
      "line 123 inserted successfully!\n",
      "line 124 inserted successfully!\n",
      "line 125 inserted successfully!\n",
      "line 126 inserted successfully!\n",
      "line 127 inserted successfully!\n",
      "line 128 inserted successfully!\n",
      "line 129 inserted successfully!\n",
      "line 130 inserted successfully!\n",
      "line 131 inserted successfully!\n",
      "line 132 inserted successfully!\n",
      "line 133 inserted successfully!\n",
      "line 134 inserted successfully!\n",
      "line 135 inserted successfully!\n",
      "line 136 inserted successfully!\n",
      "line 137 inserted successfully!\n",
      "line 138 inserted successfully!\n",
      "line 139 inserted successfully!\n",
      "line 140 inserted successfully!\n",
      "line 141 inserted successfully!\n",
      "line 142 inserted successfully!\n",
      "line 143 inserted successfully!\n",
      "line 144 inserted successfully!\n",
      "line 145 inserted successfully!\n",
      "line 146 inserted successfully!\n",
      "line 147 inserted successfully!\n",
      "line 148 inserted successfully!\n",
      "line 149 inserted successfully!\n",
      "line 150 inserted successfully!\n",
      "line 151 inserted successfully!\n",
      "line 152 inserted successfully!\n",
      "line 153 inserted successfully!\n",
      "line 154 inserted successfully!\n",
      "line 155 inserted successfully!\n",
      "line 156 inserted successfully!\n",
      "line 157 inserted successfully!\n",
      "line 158 inserted successfully!\n",
      "line 159 inserted successfully!\n",
      "line 160 inserted successfully!\n",
      "line 161 inserted successfully!\n",
      "line 162 inserted successfully!\n",
      "line 163 inserted successfully!\n",
      "line 164 inserted successfully!\n",
      "line 165 inserted successfully!\n",
      "line 166 inserted successfully!\n",
      "line 167 inserted successfully!\n",
      "line 168 inserted successfully!\n",
      "line 169 inserted successfully!\n",
      "line 170 inserted successfully!\n",
      "line 171 inserted successfully!\n",
      "line 172 inserted successfully!\n",
      "line 173 inserted successfully!\n",
      "line 174 inserted successfully!\n",
      "line 175 inserted successfully!\n",
      "line 176 inserted successfully!\n",
      "line 177 inserted successfully!\n",
      "line 178 inserted successfully!\n",
      "line 179 inserted successfully!\n",
      "line 180 inserted successfully!\n",
      "line 181 inserted successfully!\n",
      "line 182 inserted successfully!\n",
      "line 183 inserted successfully!\n",
      "line 184 inserted successfully!\n",
      "line 185 inserted successfully!\n",
      "line 186 inserted successfully!\n",
      "line 187 inserted successfully!\n",
      "line 188 inserted successfully!\n",
      "line 189 inserted successfully!\n",
      "line 190 inserted successfully!\n",
      "line 191 inserted successfully!\n",
      "line 192 inserted successfully!\n",
      "line 193 inserted successfully!\n",
      "line 194 inserted successfully!\n",
      "line 195 inserted successfully!\n",
      "line 196 inserted successfully!\n",
      "line 197 inserted successfully!\n",
      "line 198 inserted successfully!\n",
      "line 199 inserted successfully!\n",
      "line 200 inserted successfully!\n",
      "line 201 inserted successfully!\n",
      "line 202 inserted successfully!\n",
      "line 203 inserted successfully!\n",
      "line 204 inserted successfully!\n",
      "line 205 inserted successfully!\n",
      "line 206 inserted successfully!\n",
      "line 207 inserted successfully!\n",
      "line 208 inserted successfully!\n",
      "line 209 inserted successfully!\n",
      "line 210 inserted successfully!\n",
      "line 211 inserted successfully!\n",
      "line 212 inserted successfully!\n",
      "line 213 inserted successfully!\n",
      "line 214 inserted successfully!\n",
      "line 215 inserted successfully!\n",
      "line 216 inserted successfully!\n",
      "line 217 inserted successfully!\n",
      "line 218 inserted successfully!\n",
      "line 219 inserted successfully!\n",
      "line 220 inserted successfully!\n",
      "line 221 inserted successfully!\n",
      "line 222 inserted successfully!\n",
      "line 223 inserted successfully!\n",
      "line 224 inserted successfully!\n",
      "line 225 inserted successfully!\n",
      "line 226 inserted successfully!\n",
      "line 227 inserted successfully!\n",
      "line 228 inserted successfully!\n",
      "line 229 inserted successfully!\n",
      "line 230 inserted successfully!\n",
      "line 231 inserted successfully!\n",
      "line 232 inserted successfully!\n",
      "line 233 inserted successfully!\n",
      "line 234 inserted successfully!\n",
      "line 235 inserted successfully!\n",
      "line 236 inserted successfully!\n",
      "line 237 inserted successfully!\n",
      "line 238 inserted successfully!\n",
      "line 239 inserted successfully!\n",
      "line 240 inserted successfully!\n",
      "line 241 inserted successfully!\n",
      "line 242 inserted successfully!\n",
      "line 243 inserted successfully!\n",
      "line 244 inserted successfully!\n",
      "line 245 inserted successfully!\n",
      "line 246 inserted successfully!\n",
      "line 247 inserted successfully!\n",
      "line 248 inserted successfully!\n",
      "line 249 inserted successfully!\n",
      "line 250 inserted successfully!\n",
      "line 251 inserted successfully!\n",
      "line 252 inserted successfully!\n",
      "line 253 inserted successfully!\n",
      "line 254 inserted successfully!\n",
      "line 255 inserted successfully!\n",
      "line 256 inserted successfully!\n",
      "line 257 inserted successfully!\n",
      "line 258 inserted successfully!\n",
      "line 259 inserted successfully!\n",
      "line 260 inserted successfully!\n",
      "line 261 inserted successfully!\n",
      "line 262 inserted successfully!\n",
      "line 263 inserted successfully!\n",
      "line 264 inserted successfully!\n",
      "line 265 inserted successfully!\n",
      "line 266 inserted successfully!\n",
      "line 267 inserted successfully!\n",
      "line 268 inserted successfully!\n",
      "line 269 inserted successfully!\n",
      "line 270 inserted successfully!\n",
      "line 271 inserted successfully!\n",
      "line 272 inserted successfully!\n",
      "line 273 inserted successfully!\n",
      "line 274 inserted successfully!\n",
      "line 275 inserted successfully!\n",
      "line 276 inserted successfully!\n",
      "line 277 inserted successfully!\n",
      "line 278 inserted successfully!\n",
      "line 279 inserted successfully!\n",
      "line 280 inserted successfully!\n",
      "line 281 inserted successfully!\n",
      "line 282 inserted successfully!\n",
      "line 283 inserted successfully!\n",
      "line 284 inserted successfully!\n",
      "line 285 inserted successfully!\n",
      "line 286 inserted successfully!\n",
      "line 287 inserted successfully!\n"
     ]
    }
   ],
   "source": [
    "df = pd.read_csv('listeddata.csv')\n",
    "listed_column = df.columns.tolist()\n",
    "print(len(listed_column))\n",
    "tp = df\n",
    "tp.astype(str)\n",
    "for index, line in tp.iterrows():\n",
    "    x = list(line)\n",
    "    converted = [str(i) for i in x]\n",
    "    dict_data = {listed_column[i]:converted[i] for i in range(len(x))}\n",
    "    dict_data['order']=index\n",
    "    #print(dict_data)\n",
    "    rethink.db('listed').table('data').insert(dict_data).run()\n",
    "    print(\"line\", index, \"inserted successfully!\")"
   ]
  },
  {
   "cell_type": "code",
   "execution_count": 31,
   "metadata": {},
   "outputs": [
    {
     "name": "stdout",
     "output_type": "stream",
     "text": [
      "dict_keys(['Date', 'TouristNumber', 'order'])\n"
     ]
    }
   ],
   "source": [
    "print(dict_data.keys())"
   ]
  },
  {
   "cell_type": "code",
   "execution_count": 10,
   "metadata": {},
   "outputs": [
    {
     "name": "stdout",
     "output_type": "stream",
     "text": [
      "<class 'rethinkdb.net.DefaultCursor'>\n",
      "[{'Date': '33604', 'TouristNumber': '8414', 'id': '956e61d5-238b-45f7-95e4-a74e5d77e35d'}]\n"
     ]
    }
   ],
   "source": [
    "fun = rethink.db('listed').table('data').filter({'TouristNumber':'8414'}).run()\n",
    "tr = list(fun)\n",
    "print(type(fun))\n",
    "print(tr)"
   ]
  },
  {
   "cell_type": "code",
   "execution_count": 11,
   "metadata": {},
   "outputs": [
    {
     "name": "stdout",
     "output_type": "stream",
     "text": [
      "<class 'rethinkdb.net.DefaultCursor'>\n",
      "[{'Date': '33756', 'TouristNumber': '46383', 'id': 'a252ee82-dc87-4d56-8cf9-ece021fa01f7'}]\n"
     ]
    }
   ],
   "source": [
    "fun = rethink.db('listed').table('data').filter({'Date':'33756'}).run()\n",
    "tr = list(fun)\n",
    "print(type(fun))\n",
    "print(tr)"
   ]
  },
  {
   "cell_type": "code",
   "execution_count": 35,
   "metadata": {},
   "outputs": [
    {
     "name": "stdout",
     "output_type": "stream",
     "text": [
      "<class 'rethinkdb.net.DefaultCursor'>\n",
      "[{'Date': '34943', 'TouristNumber': '27665', 'id': 'ccee37f0-8f7f-486e-90d2-f9090d4059b4', 'order': 44}]\n"
     ]
    }
   ],
   "source": [
    "fun = rethink.db('listed').table('data').filter({'order':44}).run()\n",
    "tr = list(fun)\n",
    "print(type(fun))\n",
    "print(tr)"
   ]
  },
  {
   "cell_type": "code",
   "execution_count": 40,
   "metadata": {},
   "outputs": [],
   "source": [
    "cursor.execute(\"CREATE TABLE listed_data (date int, tournum int, od int ,id TEXT)\")"
   ]
  },
  {
   "cell_type": "code",
   "execution_count": 43,
   "metadata": {},
   "outputs": [],
   "source": [
    "stored = rethink.db('listed').table('data').run()\n",
    "i = 1\n",
    "for document in stored:\n",
    "    date = document['Date']\n",
    "    tnum = document['TouristNumber']\n",
    "    id = document['id']\n",
    "    order = document['order']\n",
    "    query = f\"INSERT INTO listed_data (date, tournum, od ,id ) VALUES ('{date}', '{tnum}', '{order}', '{id}')\" \n",
    "    cursor.execute(query) \n",
    "    connection.commit()"
   ]
  },
  {
   "cell_type": "code",
   "execution_count": 44,
   "metadata": {},
   "outputs": [
    {
     "name": "stdout",
     "output_type": "stream",
     "text": [
      "(37135, 27488, 116)\n"
     ]
    }
   ],
   "source": [
    "cursor.execute(\"SELECT date, tournum, od FROM listed_data\")\n",
    "tblue = cursor.fetchall()\n",
    "print(tblue[2])"
   ]
  },
  {
   "cell_type": "code",
   "execution_count": 57,
   "metadata": {},
   "outputs": [
    {
     "name": "stdout",
     "output_type": "stream",
     "text": [
      "    Date  TouristNumber\n",
      "0  33604           8414\n",
      "1  33635           9767\n",
      "2  33664          13805\n",
      "3  33695          12987\n",
      "4  33725          32190\n",
      "    Date  TouristNumber\n",
      "0  33604           8414\n",
      "1  33635           9767\n",
      "2  33664          13805\n",
      "3  33695          12987\n",
      "4  33725          32190\n",
      "True\n"
     ]
    }
   ],
   "source": [
    "recreate = pd.DataFrame(tblue, columns = dict_data.keys())\n",
    "sor = recreate.sort_values(by='order')\n",
    "sor = sor.drop(columns=['order'])\n",
    "sor = sor.reset_index(drop = True)\n",
    "#sor = sor.drop(columns=['index'])\n",
    "print(sor.head())\n",
    "print(tp.head())\n",
    "print(tp.equals(sor))"
   ]
  },
  {
   "cell_type": "code",
   "execution_count": null,
   "metadata": {},
   "outputs": [],
   "source": [
    "for i in rade:\n",
    "    id = i[0]\n",
    "    first = ','.join(i[1][0])\n",
    "    second = ','.join(i[1][1])\n",
    "    third = ','.join(i[1][2])\n",
    "    query = f\"INSERT INTO listed_date (data, tournum, id) VALUES ('{id}', '{first}', '{id}')\" \n",
    "    cursor.execute(query) \n",
    "    connection.commit()"
   ]
  },
  {
   "cell_type": "markdown",
   "metadata": {},
   "source": [
    "## 4. Audio Data\n"
   ]
  },
  {
   "cell_type": "code",
   "execution_count": 51,
   "metadata": {},
   "outputs": [
    {
     "name": "stdout",
     "output_type": "stream",
     "text": [
      "<class 'numpy.ndarray'>\n",
      "<class 'list'>\n",
      "(8017920, 2)\n",
      "167\n",
      "48000\n"
     ]
    }
   ],
   "source": [
    "adata, samplerate = sf.read('music.mp3')\n",
    "dim = adata.shape\n",
    "print(type(adata))\n",
    "#print(type(adata[12][1]))\n",
    "ladata = adata.tolist()\n",
    "print(type(ladata[2]))\n",
    "num_arrays = len(adata) // samplerate\n",
    "smaller_arrays = [adata[i*samplerate:(i+1)*samplerate] for i in range(num_arrays)]\n",
    "print(dim)\n",
    "print(len(smaller_arrays))\n",
    "print(len(smaller_arrays[1]))"
   ]
  },
  {
   "cell_type": "code",
   "execution_count": 27,
   "metadata": {},
   "outputs": [
    {
     "data": {
      "text/plain": [
       "{'config_changes': [{'new_val': {'db': 'Audio',\n",
       "    'durability': 'hard',\n",
       "    'id': '65571d3f-4093-4455-bd51-dfdfe9c16c1d',\n",
       "    'indexes': [],\n",
       "    'name': 'ladata',\n",
       "    'primary_key': 'id',\n",
       "    'shards': [{'nonvoting_replicas': [],\n",
       "      'primary_replica': 'e6cfd0df01dd_77c',\n",
       "      'replicas': ['e6cfd0df01dd_77c']}],\n",
       "    'write_acks': 'majority',\n",
       "    'write_hook': None},\n",
       "   'old_val': None}],\n",
       " 'tables_created': 1}"
      ]
     },
     "execution_count": 27,
     "metadata": {},
     "output_type": "execute_result"
    }
   ],
   "source": [
    "rethink.db_create(\"Audio\").run()\n",
    "rethink.db(\"Audio\").table_create(\"ladata\").run()"
   ]
  },
  {
   "cell_type": "code",
   "execution_count": 28,
   "metadata": {
    "scrolled": true
   },
   "outputs": [
    {
     "name": "stdout",
     "output_type": "stream",
     "text": [
      "0 has been inserted\n",
      "1 has been inserted\n",
      "2 has been inserted\n",
      "3 has been inserted\n",
      "4 has been inserted\n",
      "5 has been inserted\n",
      "6 has been inserted\n",
      "7 has been inserted\n",
      "8 has been inserted\n",
      "9 has been inserted\n",
      "10 has been inserted\n",
      "11 has been inserted\n",
      "12 has been inserted\n",
      "13 has been inserted\n",
      "14 has been inserted\n",
      "15 has been inserted\n",
      "16 has been inserted\n",
      "17 has been inserted\n",
      "18 has been inserted\n",
      "19 has been inserted\n",
      "20 has been inserted\n",
      "21 has been inserted\n",
      "22 has been inserted\n",
      "23 has been inserted\n",
      "24 has been inserted\n",
      "25 has been inserted\n",
      "26 has been inserted\n",
      "27 has been inserted\n",
      "28 has been inserted\n",
      "29 has been inserted\n",
      "30 has been inserted\n",
      "31 has been inserted\n",
      "32 has been inserted\n",
      "33 has been inserted\n",
      "34 has been inserted\n",
      "35 has been inserted\n",
      "36 has been inserted\n",
      "37 has been inserted\n",
      "38 has been inserted\n",
      "39 has been inserted\n",
      "40 has been inserted\n",
      "41 has been inserted\n",
      "42 has been inserted\n",
      "43 has been inserted\n",
      "44 has been inserted\n",
      "45 has been inserted\n",
      "46 has been inserted\n",
      "47 has been inserted\n",
      "48 has been inserted\n",
      "49 has been inserted\n",
      "50 has been inserted\n",
      "51 has been inserted\n",
      "52 has been inserted\n",
      "53 has been inserted\n",
      "54 has been inserted\n",
      "55 has been inserted\n",
      "56 has been inserted\n",
      "57 has been inserted\n",
      "58 has been inserted\n",
      "59 has been inserted\n",
      "60 has been inserted\n",
      "61 has been inserted\n",
      "62 has been inserted\n",
      "63 has been inserted\n",
      "64 has been inserted\n",
      "65 has been inserted\n",
      "66 has been inserted\n",
      "67 has been inserted\n",
      "68 has been inserted\n",
      "69 has been inserted\n",
      "70 has been inserted\n",
      "71 has been inserted\n",
      "72 has been inserted\n",
      "73 has been inserted\n",
      "74 has been inserted\n",
      "75 has been inserted\n",
      "76 has been inserted\n",
      "77 has been inserted\n",
      "78 has been inserted\n",
      "79 has been inserted\n",
      "80 has been inserted\n",
      "81 has been inserted\n",
      "82 has been inserted\n",
      "83 has been inserted\n",
      "84 has been inserted\n",
      "85 has been inserted\n",
      "86 has been inserted\n",
      "87 has been inserted\n",
      "88 has been inserted\n",
      "89 has been inserted\n",
      "90 has been inserted\n",
      "91 has been inserted\n",
      "92 has been inserted\n",
      "93 has been inserted\n",
      "94 has been inserted\n",
      "95 has been inserted\n",
      "96 has been inserted\n",
      "97 has been inserted\n",
      "98 has been inserted\n",
      "99 has been inserted\n",
      "100 has been inserted\n",
      "101 has been inserted\n",
      "102 has been inserted\n",
      "103 has been inserted\n",
      "104 has been inserted\n",
      "105 has been inserted\n",
      "106 has been inserted\n",
      "107 has been inserted\n",
      "108 has been inserted\n",
      "109 has been inserted\n",
      "110 has been inserted\n",
      "111 has been inserted\n",
      "112 has been inserted\n",
      "113 has been inserted\n",
      "114 has been inserted\n",
      "115 has been inserted\n",
      "116 has been inserted\n",
      "117 has been inserted\n",
      "118 has been inserted\n",
      "119 has been inserted\n",
      "120 has been inserted\n",
      "121 has been inserted\n",
      "122 has been inserted\n",
      "123 has been inserted\n",
      "124 has been inserted\n",
      "125 has been inserted\n",
      "126 has been inserted\n",
      "127 has been inserted\n",
      "128 has been inserted\n",
      "129 has been inserted\n",
      "130 has been inserted\n",
      "131 has been inserted\n",
      "132 has been inserted\n",
      "133 has been inserted\n",
      "134 has been inserted\n",
      "135 has been inserted\n",
      "136 has been inserted\n",
      "137 has been inserted\n",
      "138 has been inserted\n",
      "139 has been inserted\n",
      "140 has been inserted\n",
      "141 has been inserted\n",
      "142 has been inserted\n",
      "143 has been inserted\n",
      "144 has been inserted\n",
      "145 has been inserted\n",
      "146 has been inserted\n",
      "147 has been inserted\n",
      "148 has been inserted\n",
      "149 has been inserted\n",
      "150 has been inserted\n",
      "151 has been inserted\n",
      "152 has been inserted\n",
      "153 has been inserted\n",
      "154 has been inserted\n",
      "155 has been inserted\n",
      "156 has been inserted\n",
      "157 has been inserted\n",
      "158 has been inserted\n",
      "159 has been inserted\n",
      "160 has been inserted\n",
      "161 has been inserted\n",
      "162 has been inserted\n",
      "163 has been inserted\n",
      "164 has been inserted\n",
      "165 has been inserted\n",
      "166 has been inserted\n"
     ]
    }
   ],
   "source": [
    "for i in range(len(smaller_arrays)):\n",
    "    smaller_arrays[i] = smaller_arrays[i].reshape(1, -1)\n",
    "    rethink.db('Audio').table('ladata').insert({'data':smaller_arrays[i], 'order':str(i)}).run()\n",
    "    print(i, 'has been inserted')    "
   ]
  },
  {
   "cell_type": "code",
   "execution_count": 29,
   "metadata": {},
   "outputs": [
    {
     "name": "stdout",
     "output_type": "stream",
     "text": [
      "<class 'dict'>\n"
     ]
    }
   ],
   "source": [
    "second = rethink.db('Audio').table('ladata').filter({'order':'1'}).run()\n",
    "audio_for_second = list(second)\n",
    "print(type(audio_for_second[0]))"
   ]
  },
  {
   "cell_type": "code",
   "execution_count": 30,
   "metadata": {},
   "outputs": [
    {
     "name": "stdout",
     "output_type": "stream",
     "text": [
      "1 seconds data has been loaded\n",
      "2 seconds data has been loaded\n",
      "3 seconds data has been loaded\n",
      "4 seconds data has been loaded\n",
      "5 seconds data has been loaded\n",
      "6 seconds data has been loaded\n",
      "7 seconds data has been loaded\n",
      "8 seconds data has been loaded\n",
      "9 seconds data has been loaded\n",
      "10 seconds data has been loaded\n"
     ]
    }
   ],
   "source": [
    "x=1\n",
    "teaser = []\n",
    "for i in range(10):\n",
    "    second = rethink.db('Audio').table('ladata').filter({'order':str(x+i)}).run()\n",
    "    teaser.append(second) \n",
    "    print(x+i, 'seconds data has been loaded')"
   ]
  },
  {
   "cell_type": "code",
   "execution_count": 37,
   "metadata": {},
   "outputs": [],
   "source": [
    "cursor.execute(\"CREATE TABLE audio (data MEDIUMTEXT, ord TEXT)\")"
   ]
  },
  {
   "cell_type": "code",
   "execution_count": 38,
   "metadata": {},
   "outputs": [
    {
     "name": "stdout",
     "output_type": "stream",
     "text": [
      "43\n",
      "118\n",
      "59\n",
      "77\n",
      "56\n",
      "13\n",
      "104\n",
      "111\n",
      "126\n",
      "138\n",
      "67\n",
      "120\n",
      "161\n",
      "136\n",
      "108\n",
      "34\n",
      "46\n",
      "133\n",
      "123\n",
      "130\n",
      "107\n",
      "149\n",
      "18\n",
      "124\n",
      "52\n",
      "40\n",
      "125\n",
      "32\n",
      "0\n",
      "68\n",
      "24\n",
      "21\n",
      "22\n",
      "109\n",
      "119\n",
      "45\n",
      "48\n",
      "54\n",
      "30\n",
      "129\n",
      "16\n",
      "6\n",
      "116\n",
      "135\n",
      "60\n",
      "11\n",
      "55\n",
      "86\n",
      "26\n",
      "63\n",
      "15\n",
      "66\n",
      "139\n",
      "10\n",
      "134\n",
      "148\n",
      "102\n",
      "131\n",
      "164\n",
      "121\n",
      "147\n",
      "25\n",
      "112\n",
      "145\n",
      "72\n",
      "98\n",
      "150\n",
      "156\n",
      "57\n",
      "157\n",
      "89\n",
      "151\n",
      "146\n",
      "88\n",
      "87\n",
      "28\n",
      "76\n",
      "99\n",
      "78\n",
      "84\n",
      "95\n",
      "83\n",
      "160\n",
      "159\n",
      "103\n",
      "92\n",
      "110\n",
      "90\n",
      "115\n",
      "137\n",
      "142\n",
      "153\n",
      "64\n",
      "106\n",
      "38\n",
      "2\n",
      "80\n",
      "114\n",
      "4\n",
      "93\n",
      "5\n",
      "74\n",
      "163\n",
      "141\n",
      "165\n",
      "70\n",
      "23\n",
      "49\n",
      "65\n",
      "51\n",
      "1\n",
      "132\n",
      "3\n",
      "7\n",
      "36\n",
      "152\n",
      "144\n",
      "42\n",
      "154\n",
      "94\n",
      "100\n",
      "27\n",
      "162\n",
      "117\n",
      "101\n",
      "62\n",
      "17\n",
      "41\n",
      "81\n",
      "105\n",
      "61\n",
      "35\n",
      "53\n",
      "97\n",
      "91\n",
      "113\n",
      "79\n",
      "128\n",
      "143\n",
      "140\n",
      "155\n",
      "31\n",
      "158\n",
      "58\n",
      "50\n",
      "39\n",
      "20\n",
      "12\n",
      "8\n",
      "71\n",
      "33\n",
      "85\n",
      "69\n",
      "96\n",
      "9\n",
      "122\n",
      "37\n",
      "82\n",
      "166\n",
      "73\n",
      "19\n",
      "75\n",
      "127\n",
      "14\n",
      "47\n",
      "29\n",
      "44\n"
     ]
    }
   ],
   "source": [
    "audio = rethink.db('Audio').table('ladata').run()\n",
    "for document in audio:\n",
    "    second = document['data']\n",
    "    od = document['order']\n",
    "    query = f\"INSERT INTO audio (data, ord) VALUES ('{second}', '{od}')\" \n",
    "    cursor.execute(query) \n",
    "    connection.commit() \n",
    "    print(od)"
   ]
  },
  {
   "cell_type": "code",
   "execution_count": 6,
   "metadata": {},
   "outputs": [
    {
     "name": "stdout",
     "output_type": "stream",
     "text": [
      "<class 'tuple'>\n",
      "0\n",
      "1\n",
      "10\n",
      "100\n",
      "101\n",
      "102\n",
      "103\n",
      "104\n",
      "105\n",
      "106\n",
      "107\n",
      "108\n",
      "109\n",
      "11\n",
      "110\n",
      "111\n",
      "112\n",
      "113\n",
      "114\n",
      "115\n",
      "116\n",
      "117\n",
      "118\n",
      "119\n",
      "12\n",
      "120\n",
      "121\n",
      "122\n",
      "123\n",
      "124\n",
      "125\n",
      "126\n",
      "127\n",
      "128\n",
      "129\n",
      "13\n",
      "130\n",
      "131\n",
      "132\n",
      "133\n",
      "134\n",
      "135\n",
      "136\n",
      "137\n",
      "138\n",
      "139\n",
      "14\n",
      "140\n",
      "141\n",
      "142\n",
      "143\n",
      "144\n",
      "145\n",
      "146\n",
      "147\n",
      "148\n",
      "149\n",
      "15\n",
      "150\n",
      "151\n",
      "152\n",
      "153\n",
      "154\n",
      "155\n",
      "156\n",
      "157\n",
      "158\n",
      "159\n",
      "16\n",
      "160\n",
      "161\n",
      "162\n",
      "163\n",
      "164\n",
      "165\n",
      "166\n",
      "17\n",
      "18\n",
      "19\n",
      "2\n",
      "20\n",
      "21\n",
      "22\n",
      "23\n",
      "24\n",
      "25\n",
      "26\n",
      "27\n",
      "28\n",
      "29\n",
      "3\n",
      "30\n",
      "31\n",
      "32\n",
      "33\n",
      "34\n",
      "35\n",
      "36\n",
      "37\n",
      "38\n",
      "39\n",
      "4\n",
      "40\n",
      "41\n",
      "42\n",
      "43\n",
      "44\n",
      "45\n",
      "46\n",
      "47\n",
      "48\n",
      "49\n",
      "5\n",
      "50\n",
      "51\n",
      "52\n",
      "53\n",
      "54\n",
      "55\n",
      "56\n",
      "57\n",
      "58\n",
      "59\n",
      "6\n",
      "60\n",
      "61\n",
      "62\n",
      "63\n",
      "64\n",
      "65\n",
      "66\n",
      "67\n",
      "68\n",
      "69\n",
      "7\n",
      "70\n",
      "71\n",
      "72\n",
      "73\n",
      "74\n",
      "75\n",
      "76\n",
      "77\n",
      "78\n",
      "79\n",
      "8\n",
      "80\n",
      "81\n",
      "82\n",
      "83\n",
      "84\n",
      "85\n",
      "86\n",
      "87\n",
      "88\n",
      "89\n",
      "9\n",
      "90\n",
      "91\n",
      "92\n",
      "93\n",
      "94\n",
      "95\n",
      "96\n",
      "97\n",
      "98\n",
      "99\n"
     ]
    }
   ],
   "source": [
    "cursor.execute(\"SELECT data, ord FROM audio\")\n",
    "tblue = cursor.fetchall()\n",
    "readata = []\n",
    "print(type(tblue[1]))\n",
    "sortedata = sorted(tblue, key=lambda x: x[1])\n",
    "for i in sortedata:\n",
    "    print(i[1])"
   ]
  },
  {
   "cell_type": "code",
   "execution_count": 52,
   "metadata": {},
   "outputs": [
    {
     "ename": "AttributeError",
     "evalue": "'tuple' object has no attribute 'reshape'",
     "output_type": "error",
     "traceback": [
      "\u001b[0;31m---------------------------------------------------------------------------\u001b[0m",
      "\u001b[0;31mAttributeError\u001b[0m                            Traceback (most recent call last)",
      "Cell \u001b[0;32mIn[52], line 2\u001b[0m\n\u001b[1;32m      1\u001b[0m \u001b[38;5;28;01mfor\u001b[39;00m i \u001b[38;5;129;01min\u001b[39;00m tblue:\n\u001b[0;32m----> 2\u001b[0m     i \u001b[38;5;241m=\u001b[39m \u001b[43mi\u001b[49m\u001b[38;5;241;43m.\u001b[39;49m\u001b[43mreshape\u001b[49m(\u001b[38;5;241m2\u001b[39m, \u001b[38;5;241m-\u001b[39m\u001b[38;5;241m1\u001b[39m)\n\u001b[1;32m      3\u001b[0m \u001b[38;5;28mprint\u001b[39m(\u001b[38;5;28mlen\u001b[39m(tblue[\u001b[38;5;241m1\u001b[39m]))\n",
      "\u001b[0;31mAttributeError\u001b[0m: 'tuple' object has no attribute 'reshape'"
     ]
    }
   ],
   "source": [
    "for i in tblue:\n",
    "    i[0] = [float(x) for x in i[0].split()]\n",
    "\n",
    "print(len(tblue[1]))"
   ]
  },
  {
   "cell_type": "markdown",
   "metadata": {},
   "source": [
    "## 5. Image Data\n"
   ]
  },
  {
   "cell_type": "code",
   "execution_count": null,
   "metadata": {},
   "outputs": [],
   "source": []
  },
  {
   "cell_type": "markdown",
   "metadata": {},
   "source": [
    "## 6. Video Data"
   ]
  },
  {
   "cell_type": "code",
   "execution_count": 5,
   "metadata": {},
   "outputs": [
    {
     "name": "stdout",
     "output_type": "stream",
     "text": [
      "<class 'numpy.ndarray'>\n",
      "<class 'numpy.ndarray'>\n",
      "84050\n"
     ]
    }
   ],
   "source": [
    "new = []\n",
    "im = cv2.imread(\"Small_Earth.jpg\")\n",
    "print(type(im))\n",
    "red = im[:, :, 0]\n",
    "green = im[:, :, 1]\n",
    "blue = im[:, :, 2]\n",
    "print(type(red))\n",
    "r = red.reshape(2, -1).tolist()\n",
    "g = green.reshape(2, -1).tolist()\n",
    "b = blue.reshape(2, -1).tolist()\n",
    "print(len(r[1]))"
   ]
  },
  {
   "cell_type": "code",
   "execution_count": 16,
   "metadata": {},
   "outputs": [
    {
     "data": {
      "text/plain": [
       "{'config_changes': [{'new_val': {'db': 'earth',\n",
       "    'durability': 'hard',\n",
       "    'id': '42366f95-f3ff-4213-8afe-52b9141a239d',\n",
       "    'indexes': [],\n",
       "    'name': 'pic',\n",
       "    'primary_key': 'id',\n",
       "    'shards': [{'nonvoting_replicas': [],\n",
       "      'primary_replica': '43b3a94a615c_3zh',\n",
       "      'replicas': ['43b3a94a615c_3zh']}],\n",
       "    'write_acks': 'majority',\n",
       "    'write_hook': None},\n",
       "   'old_val': None}],\n",
       " 'tables_created': 1}"
      ]
     },
     "execution_count": 16,
     "metadata": {},
     "output_type": "execute_result"
    }
   ],
   "source": [
    "rethink.db_create(\"film\").run()\n",
    "rethink.db(\"film\").table_create(\"video\").run()\n",
    "rethink.db(\"film\").table_create(\"audio\").run()\n",
    "rethink.db_create(\"earth\").run()\n",
    "rethink.db(\"earth\").table_create(\"pic\").run()"
   ]
  },
  {
   "cell_type": "code",
   "execution_count": 18,
   "metadata": {},
   "outputs": [
    {
     "data": {
      "text/plain": [
       "{'deleted': 0,\n",
       " 'errors': 0,\n",
       " 'generated_keys': ['c9079786-1e2c-4d99-9fc8-376fcd1f62ec'],\n",
       " 'inserted': 1,\n",
       " 'replaced': 0,\n",
       " 'skipped': 0,\n",
       " 'unchanged': 0}"
      ]
     },
     "execution_count": 18,
     "metadata": {},
     "output_type": "execute_result"
    }
   ],
   "source": [
    "data = {\"red\":r, \"green\":g, \"blue\":b}\n",
    "rethink.db(\"earth\").table(\"pic\").insert(data).run()"
   ]
  },
  {
   "cell_type": "code",
   "execution_count": 25,
   "metadata": {},
   "outputs": [
    {
     "name": "stdout",
     "output_type": "stream",
     "text": [
      "<class 'dict'>\n"
     ]
    }
   ],
   "source": [
    "dt = []\n",
    "tr = rethink.db('earth').table('pic').run()\n",
    "for doc in tr:\n",
    "    dt.append(doc)\n",
    "data = dt[0]\n",
    "print(type(data))"
   ]
  },
  {
   "cell_type": "markdown",
   "metadata": {},
   "source": [
    "The following code will store the entire video in a rethinkdb database. Each frame was stored in a seprate table labeled with the frame number. Since each frame is 360 by 640 pixels, there are 360 row in each table. In each row, there are three member labeled R, G and B with each member containing a 1 by 640 set. This is functional at best and I am currently working on making the process more efficent. "
   ]
  },
  {
   "cell_type": "code",
   "execution_count": null,
   "metadata": {},
   "outputs": [],
   "source": [
    "'''for i in range(length):\n",
    "    new = []\n",
    "    cap.set(cv2.CAP_PROP_POS_FRAMES, i)\n",
    "    ret, frame = cap.read()\n",
    "    frame = np.array(frame)\n",
    "    red, green, blue = split(frame)\n",
    "    name = \"frame_\"+str(i)\n",
    "    rethink.db('Project').table_create(name).run()\n",
    "    for j in range(len(red)):\n",
    "        new.append({\"red\":red[j], \"green\":green[j], \"blue\":blue[j]})\n",
    "    rethink.db('Project').table(name).insert(new).run()\n",
    "    print(i/length)'''"
   ]
  },
  {
   "cell_type": "markdown",
   "metadata": {},
   "source": [
    "Everything from here on are my origional code, as you can see in the code.py file. This is for pure demonstreational purpous. "
   ]
  },
  {
   "cell_type": "code",
   "execution_count": null,
   "metadata": {},
   "outputs": [],
   "source": [
    "###Avalible Code###\n",
    "#Everything Above has been tested and will work    \n",
    "    \n",
    "#rethink.db(\"test\").table_create(\"array\"run()\n",
    "#print(frame.ndim)\n",
    "#print(length)\n",
    "#new = frames\n",
    "'''jsondata = json.dumps(frames)\n",
    "with open(\"/home/ke/Desktop/database/testing/Data605Project/Python Codes/test2.json\", \"w\") as json_file:\n",
    "    json_file.write(jsondata)'''\n",
    "# Serialize the list to JSON\n",
    "#rethink.db(\"ke-B660M-AORUS-PRO-AX-DDR4\").table\n",
    "#rethink.connect('localhost', 28015).repl()\n",
    "#print(loaded_arrays[1].ndim)\n",
    "# Write the array to disk\n",
    "#print(frames[12].ndim)\n",
    "#newarray = np.stack(frames)\n",
    "#print(newarray.shape)\n",
    "\n",
    "###Line of Submission###\n",
    "\n",
    "'''\n",
    "red = red.tolist()\n",
    "green = im[:, :, 1:2]\n",
    "green = green.tolist()\n",
    "blue = im[:, :, 2:3]\n",
    "blue = blue.tolist()\n",
    "nb = []\n",
    "for k in blue:\n",
    "    nb.append([item for sublist in k for item in sublist])'''\n",
    "#rethink.db('Project').table_create('picture').run()\n",
    "'''for i in range(len(red)):\n",
    "    frames.append({\"red\":red[i], \"green\":green[i], \"blue\":blue[i]})\n",
    "    #print(i)\n",
    "print(len(red[2]))\n",
    "#rethink.db('Project').table_create('NewArray').run()\n",
    "#rethink.db('Project').table('Array').insert(frames).run()\n",
    "array = rethink.db('Project').table('Array').pluck('red').run()\n",
    "for document in array:\n",
    "    new.append(document)\n",
    "x = list(new[4].values())\n",
    "print(x[0][4][0])'''"
   ]
  },
  {
   "cell_type": "markdown",
   "metadata": {},
   "source": [
    "**I understand my progress so far is slitely behind where it should be, but there has been an incident. My old PC(2015 Macbook air with a 4 core CPU) was not up to the task(just running the script will make the keyboard how and the pc itself too hot to work with). So I decided to get a new one. The shipping time along with setting up the system took almost the entire week. I have my system up to date now and I will catch up very soon.**\n",
    "***"
   ]
  },
  {
   "cell_type": "markdown",
   "metadata": {},
   "source": [
    "## \n"
   ]
  },
  {
   "cell_type": "markdown",
   "metadata": {},
   "source": [
    "## technology\n",
    "* ***jupyterlab***\n",
    "    * **something**\n",
    "    * **something else**\n",
    "* ***docker***\n",
    "\n",
    "* ***docker-compose***\n",
    "    - some\n",
    "* ***rethinkdb***\n",
    "    - hfin\n",
    "* ***mariadb***\n",
    "    -"
   ]
  },
  {
   "cell_type": "markdown",
   "metadata": {},
   "source": [
    "## Docker system\n"
   ]
  },
  {
   "cell_type": "markdown",
   "metadata": {},
   "source": [
    "## how to run the system\n"
   ]
  },
  {
   "cell_type": "markdown",
   "metadata": {},
   "source": [
    "## describe exactly what you have done"
   ]
  },
  {
   "cell_type": "code",
   "execution_count": null,
   "metadata": {},
   "outputs": [],
   "source": []
  }
 ],
 "metadata": {
  "kernelspec": {
   "display_name": "Python 3 (ipykernel)",
   "language": "python",
   "name": "python3"
  },
  "language_info": {
   "codemirror_mode": {
    "name": "ipython",
    "version": 3
   },
   "file_extension": ".py",
   "mimetype": "text/x-python",
   "name": "python",
   "nbconvert_exporter": "python",
   "pygments_lexer": "ipython3",
   "version": "3.9.19"
  }
 },
 "nbformat": 4,
 "nbformat_minor": 4
}
